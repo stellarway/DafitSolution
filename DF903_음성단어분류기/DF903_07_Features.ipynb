{
 "cells": [
  {
   "cell_type": "markdown",
   "metadata": {},
   "source": [
    "## Feature extraction\n",
    "### 1. Spectral features\n",
    "* **chroma_stft** : Compute a chromagram from a waveform or power spectrogram.  \n",
    "    푸리에 변환 - 주기 T를 가지고 반복되는 모든 함수는 주파수와 진폭이 다른 몇 개의 사인함수(복수 지수함수)의 합으로 나타낼 수 잇다. 이 함수의 진폭을 구하는 과정을 푸리에변환이라고 한다.  \n",
    "    STFT는 주파수 특성이 시간에 따라 달라지는 사운드를 분석하기 위한 방법. 시간-주파수의 2차원 데이터로 나타남\n",
    "      \n",
    "* **chroma_cqt** : Constant-Q chromagram.  \n",
    "    data series를 frequency로 바꾼 것  \n",
    "    Morlet wavelet transform과 관련이 있다.\n",
    "      \n",
    "* **chroma_cens** : Computes the chroma variant \"Chroma Energy Normalized\" (CENS).  \n",
    "  \n",
    "* **melspectrogram** : Compute a mel-scaled spectrogram.  \n",
    "    주파수의 단위를 멜 단위(mel unit)로 바꾼 스펙트럼 (공식을 보면 로그 스케일이다)  \n",
    "      \n",
    "* **mfcc** : Mel-frequency cepstral coefficients(MFCCs).  \n",
    "    Mel Scale Spectrum을 40개의 주파수 구역(band)으로 묶은 뒤에 이를 다시 푸리에 변환하여 얻은 계수  \n",
    "      \n",
    "* **rms** : Compute root-mean-square (RMS) value for each frame, either from the y or from a S.  \n",
    "  \n",
    "* **spectral_centroid** : Compute the spectral centroid.  \n",
    "    center of mass of the spectrum의 위치를 표기  \n",
    "      \n",
    "* **spectral_bandwidth** : Compute p'th-order spectral bandwidth.  \n",
    "  \n",
    "* **spectral_contrast** : Compute spectral contrast.  \n",
    "    music type classfication에 많이 쓰이는 듯 하다.  \n",
    "      \n",
    "* **spectral_flatness** : Compute spectral flatness.  \n",
    "    noise를 찾아내는 듯 하다. (값이 클수록 noise-like sound)  \n",
    "      \n",
    "* **spectral_rolloff** : Compute roll-off frequency.  \n",
    "  \n",
    "* **poly_features** : Get coefficients of fitting an nth-order polynomial to the columns of a spectrogram  \n",
    "  \n",
    "* **tonnetz** : Computes the tonal centriod features (tonnetz).  \n",
    "    conceptual lattice diagram representing tonal space.  \n",
    "      \n",
    "* **zero_crossing_rate** : Compute the zero-crossing rate of an audio time series.  \n",
    "    + -> 0 -> - 가 되거나 - -> 0 -> +가 되는 횟수의 비율\n",
    "\n",
    "### 2. Rhythm features\n",
    "* tempogram : Compute the tempogram (local autocorrelation of the onset strength envelope).  \n",
    "* fourier_tempogram : Compute the Fourier tempogram (the short-time Fourier transform of the onset strength envelope.\n",
    "(원문): https://librosa.github.io/librosa/feature.html  \n",
    "(주석): https://datascienceschool.net/view-notebook/691326b7f88644f79ec7ddc9f27f84ec/"
   ]
  }
 ],
 "metadata": {
  "kernelspec": {
   "display_name": "Python 3",
   "language": "python",
   "name": "python3"
  },
  "language_info": {
   "codemirror_mode": {
    "name": "ipython",
    "version": 3
   },
   "file_extension": ".py",
   "mimetype": "text/x-python",
   "name": "python",
   "nbconvert_exporter": "python",
   "pygments_lexer": "ipython3",
   "version": "3.7.4"
  }
 },
 "nbformat": 4,
 "nbformat_minor": 2
}
