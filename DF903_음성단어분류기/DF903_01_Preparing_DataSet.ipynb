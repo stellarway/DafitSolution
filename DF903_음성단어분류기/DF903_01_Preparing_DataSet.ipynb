{
 "cells": [
  {
   "cell_type": "markdown",
   "metadata": {},
   "source": [
    "필요한 모듈 임포트"
   ]
  },
  {
   "cell_type": "code",
   "execution_count": 1,
   "metadata": {},
   "outputs": [],
   "source": [
    "import os\n",
    "import shutil\n",
    "from tqdm import tqdm"
   ]
  },
  {
   "cell_type": "markdown",
   "metadata": {},
   "source": [
    "데이터 탐색"
   ]
  },
  {
   "cell_type": "code",
   "execution_count": 32,
   "metadata": {},
   "outputs": [],
   "source": [
    "DATA_DIR = '.\\data'"
   ]
  },
  {
   "cell_type": "code",
   "execution_count": null,
   "metadata": {},
   "outputs": [],
   "source": [
    "if os.path.isdir(\".\\speech_commands_v0.01.tar\"):\n",
    "    if not os.path.isdir(DATA_DIR):\n",
    "        os.rename(\".\\speech_commands_v0.01.tar\", DATA_DIR)"
   ]
  },
  {
   "cell_type": "code",
   "execution_count": null,
   "metadata": {},
   "outputs": [],
   "source": [
    "os.listdir(DATA_DIR)"
   ]
  },
  {
   "cell_type": "code",
   "execution_count": null,
   "metadata": {},
   "outputs": [],
   "source": [
    "for name in os.listdir(DATA_DIR):\n",
    "    if name.endswith(\"_list.txt\"):\n",
    "        print(name)"
   ]
  },
  {
   "cell_type": "code",
   "execution_count": 34,
   "metadata": {},
   "outputs": [],
   "source": [
    "def get_list(DATA_DIR: str, list_name: str):\n",
    "    with open(os.path.join(DATA_DIR, list_name)) as f:\n",
    "        return f.readlines()"
   ]
  },
  {
   "cell_type": "code",
   "execution_count": 35,
   "metadata": {},
   "outputs": [],
   "source": [
    "test_list = get_list(DATA_DIR, 'testing_list.txt')\n",
    "val_list = get_list(DATA_DIR, 'validation_list.txt')"
   ]
  },
  {
   "cell_type": "code",
   "execution_count": 36,
   "metadata": {},
   "outputs": [
    {
     "data": {
      "text/plain": [
       "(6835, 6798)"
      ]
     },
     "execution_count": 36,
     "metadata": {},
     "output_type": "execute_result"
    }
   ],
   "source": [
    "len(test_list), len(val_list)"
   ]
  },
  {
   "cell_type": "code",
   "execution_count": null,
   "metadata": {},
   "outputs": [],
   "source": [
    "test_list[0]"
   ]
  },
  {
   "cell_type": "code",
   "execution_count": null,
   "metadata": {},
   "outputs": [],
   "source": [
    "os.path.dirname(test_list[0])"
   ]
  },
  {
   "cell_type": "code",
   "execution_count": null,
   "metadata": {},
   "outputs": [],
   "source": [
    "os.path.basename(test_list[0])[:-1]"
   ]
  },
  {
   "cell_type": "code",
   "execution_count": null,
   "metadata": {
    "scrolled": true
   },
   "outputs": [],
   "source": [
    "# make_dir(os.getcwd(), 'data_COPY')"
   ]
  },
  {
   "cell_type": "code",
   "execution_count": null,
   "metadata": {},
   "outputs": [],
   "source": [
    "# shutil.copytree('.\\data', '.\\data_COPY')"
   ]
  },
  {
   "cell_type": "markdown",
   "metadata": {},
   "source": [
    "Data Split"
   ]
  },
  {
   "cell_type": "code",
   "execution_count": 53,
   "metadata": {},
   "outputs": [],
   "source": [
    "class DataLoader:\n",
    "    def __init__(self,\n",
    "                BASE: str,\n",
    "                NEW_BASE: str):\n",
    "        self.BASE = BASE\n",
    "        self.NEW_BASE = NEW_BASE\n",
    "\n",
    "    # speech dataset에 포함되어 있는 testing_list.txt와 validation_list.txt 텍스트 파일을 리스트로 가져오기    \n",
    "    def get_list(self):\n",
    "        ls_for_ls = []\n",
    "        cnt = -1\n",
    "        for file_name in os.listdir(self.BASE):\n",
    "            if file_name.endswith(\"_list.txt\"):\n",
    "                with open(os.path.join(self.BASE, file_name)) as f:\n",
    "                    data_list = f.readlines()\n",
    "                ls_for_ls.append(data_list)\n",
    "                cnt += 1\n",
    "                print('{} 데이터 리스트가 {}번 인덱스에 저장되었습니다.'.format(file_name.split('_')[0], cnt))\n",
    "        return ls_for_ls\n",
    "    \n",
    "    # 원하는 디렉토리가 있는 지 확인 후, 없으면 만들어주는 함수. 만들어진 디렉토리의 path를 str 형태로 받아볼 수 있다.\n",
    "    def make_dir(self, path, folder_name):\n",
    "        folder_path = os.path.join(path, folder_name)\n",
    "        if not os.path.isdir(folder_path):\n",
    "            os.mkdir(folder_path)\n",
    "        return folder_path\n",
    "\n",
    "    # 리스트 안에 있는 파일을 지정한 경로로 옮기는 함수\n",
    "    def fileinlist(self, \n",
    "                   file_list: list, dataset_dir: str):\n",
    "        print('{} 폴더를 구성하는 중입니다.'.format(os.path.basename(dataset_dir)))\n",
    "        for f in file_list:\n",
    "            file_dir = os.path.dirname(f)\n",
    "            file_name = os.path.basename(f)[:-1] # 파일명 끝에 '\\n'이 붙어있어 제거한다.\n",
    "            self.make_dir(dataset_dir, file_dir)\n",
    "            \n",
    "            old_path = os.path.join(self.BASE, f[:-1])\n",
    "            new_path = os.path.join(dataset_dir, f[:-1])\n",
    "            shutil.move(old_path, new_path)\n",
    "        print('{} 폴더 구성이 완료 되었습니다.'.format(os.path.basename(dataset_dir)))\n",
    "    \n",
    "    def split(self):\n",
    "        test_list, val_list = self.get_list()\n",
    "        \n",
    "        os.mkdir(self.NEW_BASE)\n",
    "        test_path = self.make_dir(self.NEW_BASE, 'test')\n",
    "        train_path = self.make_dir(self.NEW_BASE, 'train')\n",
    "        val_path = self.make_dir(self.NEW_BASE, 'val')\n",
    "        self.fileinlist(test_list, test_path)\n",
    "        self.fileinlist(val_list, val_path)\n",
    "               \n",
    "    # 리스트 안의 test data와 validation의 data를 먼저 모두 옮기고 남은 데이터를 한꺼번에 지정한 경로의 train 폴더로 옮긴다.    \n",
    "\n",
    "        print('{} 폴더를 구성하는 중입니다.'.format(os.path.basename(train_path)))  \n",
    "        # move train-set\n",
    "        for folder in tqdm(os.listdir(self.BASE)):\n",
    "            old_path = os.path.join(self.BASE, folder)\n",
    "            new_path = os.path.join(train_path, folder)\n",
    "            if os.path.isdir(old_path):\n",
    "                shutil.move(old_path, new_path)\n",
    "        print('{} 폴더 구성이 완료 되었습니다.'.format(os.path.basename(train_path)))\n",
    "        print('데이터 분할이 완료 되었습니다.')\n",
    "        "
   ]
  },
  {
   "cell_type": "code",
   "execution_count": 54,
   "metadata": {},
   "outputs": [],
   "source": [
    "BASE = '../../data/dafit/DF_903'\n",
    "NEW_BASE = '../../data/dafit/DF_903_split'"
   ]
  },
  {
   "cell_type": "code",
   "execution_count": 55,
   "metadata": {},
   "outputs": [
    {
     "name": "stdout",
     "output_type": "stream",
     "text": [
      "testing 데이터 리스트가 0번 인덱스에 저장되었습니다.\n",
      "validation 데이터 리스트가 1번 인덱스에 저장되었습니다.\n",
      "test 폴더를 구성하는 중입니다.\n",
      "test 폴더를 구성이 완료 되었습니다.\n",
      "val 폴더를 구성하는 중입니다.\n"
     ]
    },
    {
     "name": "stderr",
     "output_type": "stream",
     "text": [
      "\n",
      "100%|█████████████████████████████████████████████████████████████████████████████████| 35/35 [00:00<00:00, 369.41it/s]\u001b[A"
     ]
    },
    {
     "name": "stdout",
     "output_type": "stream",
     "text": [
      "val 폴더를 구성이 완료 되었습니다.\n",
      "train 폴더를 구성하는 중입니다.\n",
      "train 폴더를 구성이 완료 되었습니다.\n",
      "데이터 분할이 완료 되었습니다.\n"
     ]
    },
    {
     "name": "stderr",
     "output_type": "stream",
     "text": [
      "\n"
     ]
    },
    {
     "ename": "TypeError",
     "evalue": "len_chk() takes 1 positional argument but 2 were given",
     "output_type": "error",
     "traceback": [
      "\u001b[1;31m---------------------------------------------------------------------------\u001b[0m",
      "\u001b[1;31mTypeError\u001b[0m                                 Traceback (most recent call last)",
      "\u001b[1;32m<ipython-input-55-a132a9dec628>\u001b[0m in \u001b[0;36m<module>\u001b[1;34m\u001b[0m\n\u001b[0;32m      1\u001b[0m \u001b[0mdata_loader\u001b[0m \u001b[1;33m=\u001b[0m \u001b[0mDataLoader\u001b[0m\u001b[1;33m(\u001b[0m\u001b[0mBASE\u001b[0m\u001b[1;33m,\u001b[0m \u001b[0mNEW_BASE\u001b[0m\u001b[1;33m)\u001b[0m\u001b[1;33m\u001b[0m\u001b[1;33m\u001b[0m\u001b[0m\n\u001b[1;32m----> 2\u001b[1;33m \u001b[0mdata_loader\u001b[0m\u001b[1;33m.\u001b[0m\u001b[0msplit\u001b[0m\u001b[1;33m(\u001b[0m\u001b[1;33m)\u001b[0m\u001b[1;33m\u001b[0m\u001b[1;33m\u001b[0m\u001b[0m\n\u001b[0m",
      "\u001b[1;32m<ipython-input-53-4972c23d1484>\u001b[0m in \u001b[0;36msplit\u001b[1;34m(self)\u001b[0m\n\u001b[0;32m     64\u001b[0m         \u001b[0mprint\u001b[0m\u001b[1;33m(\u001b[0m\u001b[1;34m'{} 폴더를 구성이 완료 되었습니다.'\u001b[0m\u001b[1;33m.\u001b[0m\u001b[0mformat\u001b[0m\u001b[1;33m(\u001b[0m\u001b[0mos\u001b[0m\u001b[1;33m.\u001b[0m\u001b[0mpath\u001b[0m\u001b[1;33m.\u001b[0m\u001b[0mbasename\u001b[0m\u001b[1;33m(\u001b[0m\u001b[0mtrain_path\u001b[0m\u001b[1;33m)\u001b[0m\u001b[1;33m)\u001b[0m\u001b[1;33m)\u001b[0m\u001b[1;33m\u001b[0m\u001b[1;33m\u001b[0m\u001b[0m\n\u001b[0;32m     65\u001b[0m         \u001b[0mprint\u001b[0m\u001b[1;33m(\u001b[0m\u001b[1;34m'데이터 분할이 완료 되었습니다.'\u001b[0m\u001b[1;33m)\u001b[0m\u001b[1;33m\u001b[0m\u001b[1;33m\u001b[0m\u001b[0m\n\u001b[1;32m---> 66\u001b[1;33m         \u001b[0mself\u001b[0m\u001b[1;33m.\u001b[0m\u001b[0mlen_chk\u001b[0m\u001b[1;33m(\u001b[0m\u001b[0mtrain_path\u001b[0m\u001b[1;33m)\u001b[0m\u001b[1;33m\u001b[0m\u001b[1;33m\u001b[0m\u001b[0m\n\u001b[0m\u001b[0;32m     67\u001b[0m         \u001b[0mself\u001b[0m\u001b[1;33m.\u001b[0m\u001b[0mlen_chk\u001b[0m\u001b[1;33m(\u001b[0m\u001b[0mteste_path\u001b[0m\u001b[1;33m)\u001b[0m\u001b[1;33m\u001b[0m\u001b[1;33m\u001b[0m\u001b[0m\n\u001b[0;32m     68\u001b[0m         \u001b[0mself\u001b[0m\u001b[1;33m.\u001b[0m\u001b[0mlen_chk\u001b[0m\u001b[1;33m(\u001b[0m\u001b[0mval_path\u001b[0m\u001b[1;33m)\u001b[0m\u001b[1;33m\u001b[0m\u001b[1;33m\u001b[0m\u001b[0m\n",
      "\u001b[1;31mTypeError\u001b[0m: len_chk() takes 1 positional argument but 2 were given"
     ]
    }
   ],
   "source": [
    "data_loader = DataLoader(BASE, NEW_BASE)\n",
    "data_loader.split()"
   ]
  },
  {
   "cell_type": "code",
   "execution_count": null,
   "metadata": {},
   "outputs": [],
   "source": []
  }
 ],
 "metadata": {
  "kernelspec": {
   "display_name": "Python 3",
   "language": "python",
   "name": "python3"
  },
  "language_info": {
   "codemirror_mode": {
    "name": "ipython",
    "version": 3
   },
   "file_extension": ".py",
   "mimetype": "text/x-python",
   "name": "python",
   "nbconvert_exporter": "python",
   "pygments_lexer": "ipython3",
   "version": "3.7.4"
  }
 },
 "nbformat": 4,
 "nbformat_minor": 2
}
