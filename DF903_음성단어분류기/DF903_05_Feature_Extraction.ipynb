{
 "cells": [
  {
   "cell_type": "code",
   "execution_count": 2,
   "metadata": {},
   "outputs": [],
   "source": [
    "import librosa\n",
    "import librosa.display\n",
    "import numpy as np\n",
    "import matplotlib.pyplot as plt"
   ]
  },
  {
   "cell_type": "code",
   "execution_count": 1,
   "metadata": {},
   "outputs": [],
   "source": [
    "audio_path = '../../data/dafit/DF_903_split/train/bed/00176480_nohash_0.wav'"
   ]
  },
  {
   "cell_type": "code",
   "execution_count": 21,
   "metadata": {},
   "outputs": [],
   "source": [
    "sr = librosa.get_samplerate(audio_path)\n",
    "y, sr = librosa.load(audio_path, sr=sr)\n",
    "dur = librosa.get_duration(y, sr)"
   ]
  },
  {
   "cell_type": "code",
   "execution_count": 6,
   "metadata": {},
   "outputs": [
    {
     "data": {
      "text/plain": [
       "(16000,)"
      ]
     },
     "execution_count": 6,
     "metadata": {},
     "output_type": "execute_result"
    }
   ],
   "source": [
    "y.shape"
   ]
  },
  {
   "cell_type": "code",
   "execution_count": 31,
   "metadata": {},
   "outputs": [],
   "source": [
    "stft = librosa.stft(y) # (1025, 32)\n",
    "chroma = librosa.feature.chroma_stft(y, sr).T # (32, 12)\n",
    "mfccs = librosa.feature.mfcc(y, sr).T # (32, 20)\n",
    "mel = librosa.feature.melspectrogram(y, sr).T # (32, 128)\n",
    "contrast = librosa.feature.spectral_contrast(S=stft, sr=sr).T # (32, 7)\n",
    "tonnetz = librosa.feature.tonnetz(y=librosa.effects.harmonic(y), sr=sr).T #(32, 6)"
   ]
  },
  {
   "cell_type": "code",
   "execution_count": 43,
   "metadata": {},
   "outputs": [
    {
     "data": {
      "text/plain": [
       "((1025, 32), (32, 12), (32, 20), (32, 128), (32, 7), (32, 6))"
      ]
     },
     "execution_count": 43,
     "metadata": {},
     "output_type": "execute_result"
    }
   ],
   "source": [
    "stft.shape, chroma.shape, mfccs.shape, mel.shape, contrast.shape, tonnetz.shape"
   ]
  }
 ],
 "metadata": {
  "kernelspec": {
   "display_name": "Python 3",
   "language": "python",
   "name": "python3"
  },
  "language_info": {
   "codemirror_mode": {
    "name": "ipython",
    "version": 3
   },
   "file_extension": ".py",
   "mimetype": "text/x-python",
   "name": "python",
   "nbconvert_exporter": "python",
   "pygments_lexer": "ipython3",
   "version": "3.7.4"
  }
 },
 "nbformat": 4,
 "nbformat_minor": 2
}
